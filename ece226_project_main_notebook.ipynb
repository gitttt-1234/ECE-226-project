{
  "nbformat": 4,
  "nbformat_minor": 0,
  "metadata": {
    "colab": {
      "provenance": [],
      "gpuType": "T4",
      "collapsed_sections": [
        "RIL6fZuLJ-sL",
        "IUhphn-fLsOz",
        "yFkOyOlELwIi",
        "aHlnxL30L9GU",
        "X7Ug9r9JMsMC",
        "jHJgvPLeMxw1",
        "rUhcixMZNkNn",
        "HV_jqxH0Vm1L",
        "WyM4wtRPVq_6"
      ]
    },
    "kernelspec": {
      "name": "python3",
      "display_name": "Python 3"
    },
    "language_info": {
      "name": "python"
    }
  },
  "cells": [
    {
      "cell_type": "markdown",
      "source": [
        "#### SETUP"
      ],
      "metadata": {
        "id": "RIL6fZuLJ-sL"
      }
    },
    {
      "cell_type": "code",
      "source": [
        "%cd ..\n",
        "from google.colab import drive\n",
        "drive.mount('/content/gdrive')\n",
        "\n",
        "\n"
      ],
      "metadata": {
        "id": "FtzkNRa8vEed"
      },
      "execution_count": null,
      "outputs": []
    },
    {
      "cell_type": "code",
      "source": [
        "%cd /content/gdrive/MyDrive/GFKD"
      ],
      "metadata": {
        "id": "Yik7srSCbogi"
      },
      "execution_count": null,
      "outputs": []
    },
    {
      "cell_type": "code",
      "source": [
        "%cd GFKD"
      ],
      "metadata": {
        "id": "tnrCV6yRyuJ7"
      },
      "execution_count": null,
      "outputs": []
    },
    {
      "cell_type": "code",
      "source": [
        "%pip install  dgl -f https://data.dgl.ai/wheels/cu118/repo.html\n",
        "%pip install  dglgo -f https://data.dgl.ai/wheels-test/repo.html"
      ],
      "metadata": {
        "id": "qhgrnDoeLBhn"
      },
      "execution_count": null,
      "outputs": []
    },
    {
      "cell_type": "code",
      "source": [
        "#to train fake graphs\n",
        "#for PTC\n",
        "!python inversion_gcn.py --gpu 0 --total_num 240 --batch_size 240 --trial 1 --epoch 800 --self_loop --bn_reg_scale 1e-2 --onehot_cof 1e-6 --dataset PTC --savepath './save/fakegraphs' --tmodel GCN --modelt GCN5_64 --path_t 'save/teachers/Model_GCN5_64_Datset_PTC/GCN5_64_best_PTC.pth'"
      ],
      "metadata": {
        "id": "9vs413utN0ri"
      },
      "execution_count": null,
      "outputs": []
    },
    {
      "cell_type": "markdown",
      "source": [
        "#### with 0 training data"
      ],
      "metadata": {
        "id": "aW5E78nzVc9V"
      }
    },
    {
      "cell_type": "markdown",
      "source": [
        "###### PTC"
      ],
      "metadata": {
        "id": "IUhphn-fLsOz"
      }
    },
    {
      "cell_type": "code",
      "source": [
        "#PTC dataset - GCN3_32 student\n",
        "\n",
        "!python train_kd_gcn.py --fake_path './save/fakegraphs_bn0.01_oh1e-06/GCN5_64fake_PTC29_1.txt' --gpu -1 --lr 1e-2 --kd_T 2 --batch_size 32 --seed 3 --self_loop --dataset PTC --tmodel GCN --modelt GCN5_64 --smodel GCN --models GCN3_32 --path_t './save/teachers/Model_GCN5_64_Datset_PTC/GCN5_64_best_PTC.pth' --onehot_cof 1e-6 --bn_reg_scale 1e-2"
      ],
      "metadata": {
        "id": "hiZl9_gew871"
      },
      "execution_count": null,
      "outputs": []
    },
    {
      "cell_type": "code",
      "source": [
        "#PTC dataset - GAT_3_32 student\n",
        "\n",
        "!python train_kd_gcn.py --fake_path './save/fakegraphs_bn0.01_oh1e-06/GCN5_64fake_PTC29_1.txt' --gpu -1 --lr 1e-2 --kd_T 2 --batch_size 32 --seed 3 --self_loop --dataset PTC --tmodel GCN --modelt GCN5_64 --smodel GAT --models GAT_3_32 --path_t './save/teachers/Model_GCN5_64_Datset_PTC/GCN5_64_best_PTC.pth' --onehot_cof 1e-6 --bn_reg_scale 1e-2"
      ],
      "metadata": {
        "id": "5lKbKHrx6Win"
      },
      "execution_count": null,
      "outputs": []
    },
    {
      "cell_type": "code",
      "source": [
        "#PTC dataset - GraphSAGE_3_32 student\n",
        "\n",
        "!python train_kd_gcn.py --fake_path './save/fakegraphs_bn0.01_oh1e-06/GCN5_64fake_PTC29_1.txt' --gpu -1 --lr 1e-2 --kd_T 2 --batch_size 32 --seed 3 --self_loop --dataset PTC --tmodel GCN --modelt GCN5_64 --smodel GS --models GS --path_t './save/teachers/Model_GCN5_64_Datset_PTC/GCN5_64_best_PTC.pth' --onehot_cof 1e-6 --bn_reg_scale 1e-2"
      ],
      "metadata": {
        "id": "e6PQVCUGLUUb"
      },
      "execution_count": null,
      "outputs": []
    },
    {
      "cell_type": "markdown",
      "source": [
        "###### MUTAG"
      ],
      "metadata": {
        "id": "yFkOyOlELwIi"
      }
    },
    {
      "cell_type": "code",
      "source": [
        "#MUTAG dataset - GCN3_32 student\n",
        "\n",
        "!python train_kd_gcn.py --fake_path './save/fakegraphs_bn0.01_oh1e-06/GCN5_64fake_mutag29_1.txt' --gpu -1 --lr 1e-2 --kd_T 2 --batch_size 32 --seed 3 --self_loop --dataset MUTAG --tmodel GCN --modelt GCN5_64 --smodel GCN --models GCN3_32 --path_t './save/teachers/Model_GCN5_64_Datset_MUTAG/ckpt_best_29.pth' --onehot_cof 1e-6 --bn_reg_scale 1e-2"
      ],
      "metadata": {
        "id": "DI2_G9coyo6n"
      },
      "execution_count": null,
      "outputs": []
    },
    {
      "cell_type": "code",
      "source": [
        "#MUTAG dataset - GAT_3_32 student\n",
        "\n",
        "!python train_kd_gcn.py --fake_path './save/fakegraphs_bn0.01_oh1e-06/GCN5_64fake_mutag29_1.txt' --gpu -1 --lr 1e-2 --kd_T 2 --batch_size 32 --seed 3 --self_loop --dataset MUTAG --tmodel GCN --modelt GCN5_64 --smodel GAT --models GAT_3_32 --path_t './save/teachers/Model_GCN5_64_Datset_MUTAG/ckpt_best_29.pth' --onehot_cof 1e-6 --bn_reg_scale 1e-2"
      ],
      "metadata": {
        "id": "fBn_tpL16WZr"
      },
      "execution_count": null,
      "outputs": []
    },
    {
      "cell_type": "code",
      "source": [
        "#MUTAG dataset - GraohSAGE_3_32 student\n",
        "\n",
        "!python train_kd_gcn.py --fake_path './save/fakegraphs_bn0.01_oh1e-06/GCN5_64fake_mutag29_1.txt' --gpu -1 --lr 1e-2 --kd_T 2 --batch_size 32 --seed 3 --self_loop --dataset MUTAG --tmodel GCN --modelt GCN5_64 --smodel GS --models GS --path_t './save/teachers/Model_GCN5_64_Datset_MUTAG/ckpt_best_29.pth' --onehot_cof 1e-6 --bn_reg_scale 1e-2"
      ],
      "metadata": {
        "id": "8Su6Rq7-L571"
      },
      "execution_count": null,
      "outputs": []
    },
    {
      "cell_type": "markdown",
      "source": [
        "###### PROTEINS"
      ],
      "metadata": {
        "id": "aHlnxL30L9GU"
      }
    },
    {
      "cell_type": "code",
      "source": [
        "#PROTEINS dataset - GCN3_32 student\n",
        "\n",
        "\n",
        "!python train_kd_gcn.py --fake_path './save/GCN5_64fake_PROTEINS29.txt' --gpu -1 --lr 1e-2 --kd_T 2 --batch_size 32 --seed 3 --self_loop --dataset PROTEINS --tmodel GCN --modelt GCN5_64 --smodel GCN --models GCN3_32 --path_t './save/teachers/Model_GCN5_64_Datset_PROTEINS/GCN5_64_best_PROTEINS.pth' --onehot_cof 1e-6 --bn_reg_scale 1e-2"
      ],
      "metadata": {
        "id": "lmx72hfQzEQ2"
      },
      "execution_count": null,
      "outputs": []
    },
    {
      "cell_type": "code",
      "source": [
        "#PROTEINS dataset - GAT_3_32 student\n",
        "\n",
        "!python train_kd_gcn.py --fake_path './save/GCN5_64fake_PROTEINS29.txt' --gpu -1 --lr 1e-2 --kd_T 2 --batch_size 32 --seed 3 --self_loop --dataset PROTEINS --tmodel GCN --modelt GCN5_64 --smodel GAT --models GAT_3_32 --path_t './save/teachers/Model_GCN5_64_Datset_PROTEINS/GCN5_64_best_PROTEINS.pth' --onehot_cof 1e-6 --bn_reg_scale 1e-2"
      ],
      "metadata": {
        "id": "pqZMu3-w6WWp"
      },
      "execution_count": null,
      "outputs": []
    },
    {
      "cell_type": "code",
      "source": [
        "#PROTEINS dataset - GraphSAGE student\n",
        "!python train_kd_gcn.py --fake_path './save/GCN5_64fake_PROTEINS29.txt' --gpu -1 --lr 1e-2 --kd_T 2 --batch_size 32 --seed 3 --self_loop --dataset PROTEINS --tmodel GCN --modelt GCN5_64 --smodel GS --models GS --path_t './save/teachers/Model_GCN5_64_Datset_PROTEINS/GCN5_64_best_PROTEINS.pth' --onehot_cof 1e-6 --bn_reg_scale 1e-2"
      ],
      "metadata": {
        "id": "kc3y-ldcMOrM"
      },
      "execution_count": null,
      "outputs": []
    },
    {
      "cell_type": "markdown",
      "source": [
        "#### with 100% training data"
      ],
      "metadata": {
        "id": "D-yIw84UVhx5"
      }
    },
    {
      "cell_type": "markdown",
      "source": [
        "###### PTC"
      ],
      "metadata": {
        "id": "X7Ug9r9JMsMC"
      }
    },
    {
      "cell_type": "code",
      "source": [
        "#PTC dataset - GCN3_32 student\n",
        "\n",
        "\n",
        "!python train_kd_gcn.py --fake_path './save/fakegraphs_bn0.01_oh1e-06/GCN5_64fake_PTC29_1.txt' --gpu -1 --lr 1e-2 --kd_T 2 --batch_size 32 --seed 3 --self_loop --dataset PTC --tmodel GCN --modelt GCN5_64 --smodel GCN --models GCN3_32 --path_t './save/teachers/Model_GCN5_64_Datset_PTC/GCN5_64_best_PTC.pth' --onehot_cof 1e-6 --bn_reg_scale 1e-2"
      ],
      "metadata": {
        "id": "9mDyDhQD00ws"
      },
      "execution_count": null,
      "outputs": []
    },
    {
      "cell_type": "code",
      "source": [
        "#PTC dataset - GAT_3_32 student\n",
        "\n",
        "!python train_kd_gcn.py --fake_path './save/fakegraphs_bn0.01_oh1e-06/GCN5_64fake_PTC29_1.txt' --gpu -1 --lr 1e-2 --kd_T 2 --batch_size 32 --seed 3 --self_loop --dataset PTC --tmodel GCN --modelt GCN5_64 --smodel GAT --models GAT_3_32 --path_t './save/teachers/Model_GCN5_64_Datset_PTC/GCN5_64_best_PTC.pth' --onehot_cof 1e-6 --bn_reg_scale 1e-2"
      ],
      "metadata": {
        "id": "8_HatWaN6WQb"
      },
      "execution_count": null,
      "outputs": []
    },
    {
      "cell_type": "code",
      "source": [
        "#PTC dataset - GraphSAGE student\n",
        "\n",
        "!python train_kd_gcn.py --fake_path './save/fakegraphs_bn0.01_oh1e-06/GCN5_64fake_PTC29_1.txt' --gpu -1 --lr 1e-2 --kd_T 2 --batch_size 32 --seed 3 --self_loop --dataset PTC --tmodel GCN --modelt GCN5_64 --smodel GS --models GS --path_t './save/teachers/Model_GCN5_64_Datset_PTC/GCN5_64_best_PTC.pth' --onehot_cof 1e-6 --bn_reg_scale 1e-2"
      ],
      "metadata": {
        "id": "PJQMcNMpMmzb"
      },
      "execution_count": null,
      "outputs": []
    },
    {
      "cell_type": "markdown",
      "source": [
        "###### MUTAG"
      ],
      "metadata": {
        "id": "jHJgvPLeMxw1"
      }
    },
    {
      "cell_type": "code",
      "source": [
        "#GCN3_32 student\n",
        "!python train_kd_gcn.py --fake_path './save/fakegraphs_bn0.01_oh1e-06/GCN5_64fake_mutag29_1.txt' --gpu -1 --lr 1e-2 --kd_T 2 --batch_size 32 --seed 3 --self_loop --dataset MUTAG --tmodel GCN --modelt GCN5_64 --smodel GCN --models GCN3_32 --path_t './save/teachers/Model_GCN5_64_Datset_MUTAG/ckpt_best_29.pth' --onehot_cof 1e-6 --bn_reg_scale 1e-2"
      ],
      "metadata": {
        "id": "R9Ralnxb1eXS"
      },
      "execution_count": null,
      "outputs": []
    },
    {
      "cell_type": "code",
      "source": [
        "#GAT_3_32 student\n",
        "\n",
        "!python train_kd_gcn.py --fake_path './save/fakegraphs_bn0.01_oh1e-06/GCN5_64fake_mutag29_1.txt' --gpu -1 --lr 1e-2 --kd_T 2 --batch_size 32 --seed 3 --self_loop --dataset MUTAG --tmodel GCN --modelt GCN5_64 --smodel GAT --models GAT_3_32 --path_t './save/teachers/Model_GCN5_64_Datset_MUTAG/ckpt_best_29.pth' --onehot_cof 1e-6 --bn_reg_scale 1e-2"
      ],
      "metadata": {
        "id": "86LaDXPB6WNB"
      },
      "execution_count": null,
      "outputs": []
    },
    {
      "cell_type": "code",
      "source": [
        "#graph sage\n",
        "\n",
        "!python train_kd_gcn.py --fake_path './save/fakegraphs_bn0.01_oh1e-06/GCN5_64fake_mutag29_1.txt' --gpu -1 --lr 1e-2 --kd_T 2 --batch_size 32 --seed 3 --self_loop --dataset MUTAG --tmodel GCN --modelt GCN5_64 --smodel GS --models GS --path_t './save/teachers/Model_GCN5_64_Datset_MUTAG/ckpt_best_29.pth' --onehot_cof 1e-6 --bn_reg_scale 1e-2"
      ],
      "metadata": {
        "id": "GQT4iXwV8dlw"
      },
      "execution_count": null,
      "outputs": []
    },
    {
      "cell_type": "markdown",
      "source": [
        "###### PROTEINS"
      ],
      "metadata": {
        "id": "rUhcixMZNkNn"
      }
    },
    {
      "cell_type": "code",
      "source": [
        "#GCN3_32\n",
        "!python train_kd_gcn.py --fake_path './save/GCN5_64fake_PROTEINS29.txt' --gpu -1 --lr 1e-2 --kd_T 2 --batch_size 32 --seed 3 --self_loop --dataset PROTEINS --tmodel GCN --modelt GCN5_64 --smodel GCN --models GCN3_32 --path_t './save/teachers/Model_GCN5_64_Datset_PROTEINS/GCN5_64_best_PROTEINS.pth' --onehot_cof 1e-6 --bn_reg_scale 1e-2"
      ],
      "metadata": {
        "id": "Lx-IwYKU2S2v"
      },
      "execution_count": null,
      "outputs": []
    },
    {
      "cell_type": "code",
      "source": [
        "#GAT_3_32\n",
        "!python train_kd_gcn.py --fake_path './save/GCN5_64fake_PROTEINS29.txt' --gpu -1 --lr 1e-2 --kd_T 2 --batch_size 32 --seed 3 --self_loop --dataset PROTEINS --tmodel GCN --modelt GCN5_64 --smodel GAT --models GAT_3_32 --path_t './save/teachers/Model_GCN5_64_Datset_PROTEINS/GCN5_64_best_PROTEINS.pth' --onehot_cof 1e-6 --bn_reg_scale 1e-2"
      ],
      "metadata": {
        "id": "mGyfG-bH6WKA"
      },
      "execution_count": null,
      "outputs": []
    },
    {
      "cell_type": "code",
      "source": [
        "#GRAPH SAGE\n",
        "!python train_kd_gcn.py --fake_path './save/GCN5_64fake_PROTEINS29.txt' --gpu -1 --lr 1e-2 --kd_T 2 --batch_size 32 --seed 3 --self_loop --dataset PROTEINS --tmodel GCN --modelt GCN5_64 --smodel GS --models GS --path_t './save/teachers/Model_GCN5_64_Datset_PROTEINS/GCN5_64_best_PROTEINS.pth' --onehot_cof 1e-6 --bn_reg_scale 1e-2"
      ],
      "metadata": {
        "id": "4VkHFkBe8ikP"
      },
      "execution_count": null,
      "outputs": []
    },
    {
      "cell_type": "markdown",
      "source": [
        "#### experimenting with r on ptc"
      ],
      "metadata": {
        "id": "HV_jqxH0Vm1L"
      }
    },
    {
      "cell_type": "code",
      "source": [
        "#r=0.3 GAT_3_32\n",
        "!python train_kd_gcn.py --fake_path './save/GCN5_64fake_PTC29_0.3.txt' --gpu -1 --lr 1e-2 --kd_T 2 --batch_size 32 --seed 3 --self_loop --dataset PTC --tmodel GCN --modelt GCN5_64 --smodel GAT --models GAT_3_64 --path_t './save/teachers/Model_GCN5_64_Datset_PTC/GCN5_64_best_PTC.pth' --onehot_cof 1e-6 --bn_reg_scale 1e-2"
      ],
      "metadata": {
        "id": "Zy42OJxdXXWI"
      },
      "execution_count": null,
      "outputs": []
    },
    {
      "cell_type": "code",
      "source": [
        "#r=0.5 GAT3_32\n",
        "!python train_kd_gcn.py --fake_path './save/GCN5_64fake_PTC29_r_0.5.txt' --gpu -1 --lr 1e-2 --kd_T 2 --batch_size 32 --seed 3 --self_loop --dataset PTC --tmodel GCN --modelt GCN5_64 --smodel GAT --models GAT_3_64 --path_t './save/teachers/Model_GCN5_64_Datset_PTC/GCN5_64_best_PTC.pth' --onehot_cof 1e-6 --bn_reg_scale 1e-2"
      ],
      "metadata": {
        "id": "BZlPcV5i46_B"
      },
      "execution_count": null,
      "outputs": []
    },
    {
      "cell_type": "code",
      "source": [
        "#r=1 GAT3_32\n",
        "!python train_kd_gcn.py --fake_path './save/GCN5_64fake_PTC29_r_1.txt' --gpu -1 --lr 1e-2 --kd_T 2 --batch_size 32 --seed 3 --self_loop --dataset PTC --tmodel GCN --modelt GCN5_64 --smodel GAT --models GAT_3_64 --path_t './save/teachers/Model_GCN5_64_Datset_PTC/GCN5_64_best_PTC.pth' --onehot_cof 1e-6 --bn_reg_scale 1e-2"
      ],
      "metadata": {
        "id": "KIJnGXfb6Tkl"
      },
      "execution_count": null,
      "outputs": []
    },
    {
      "cell_type": "markdown",
      "source": [
        "#### experimenting with bn and onehot on mutag"
      ],
      "metadata": {
        "id": "WyM4wtRPVq_6"
      }
    },
    {
      "cell_type": "code",
      "source": [
        "#without bn and one_hot reg - GAT3_32\n",
        "!python train_kd_gcn.py --fake_path './save/GCN5_64fake_MUTAG29_00.txt' --gpu -1 --lr 1e-2 --kd_T 2 --batch_size 32 --seed 3 --self_loop --dataset MUTAG --tmodel GCN --modelt GCN5_64 --smodel GAT --models GAT_3_64 --path_t './save/teachers/Model_GCN5_64_Datset_MUTAG/ckpt_best_29.pth' --onehot_cof 1e-6 --bn_reg_scale 1e-2"
      ],
      "metadata": {
        "id": "u5yw0db8c_QY"
      },
      "execution_count": null,
      "outputs": []
    },
    {
      "cell_type": "code",
      "source": [
        "#without bn and one_hot reg - GRAPH SAGE\n",
        "!python train_kd_gcn.py --fake_path './save/GCN5_64fake_MUTAG29_00.txt' --gpu -1 --lr 1e-2 --kd_T 2 --batch_size 32 --seed 3 --self_loop --dataset MUTAG --tmodel GCN --modelt GCN5_64 --smodel GS --models GS --path_t './save/teachers/Model_GCN5_64_Datset_MUTAG/ckpt_best_29.pth' --onehot_cof 1e-6 --bn_reg_scale 1e-2"
      ],
      "metadata": {
        "id": "xmV_NqNE8rz0"
      },
      "execution_count": null,
      "outputs": []
    },
    {
      "cell_type": "markdown",
      "source": [
        "#### experimenting with layers - PROTEINS"
      ],
      "metadata": {
        "id": "WMxHzJCvVvLE"
      }
    },
    {
      "cell_type": "code",
      "source": [
        "#layers=4 GAT3_32\n",
        "!python train_kd_gcn.py --fake_path './save/GCN5_64fake_PROTEINS29.txt' --gpu -1 --lr 1e-2 --kd_T 2 --batch_size 32 --seed 3 --self_loop --dataset PROTEINS --tmodel GCN --modelt GCN5_64 --smodel GAT --models GAT_4_64 --path_t './save/teachers/Model_GCN5_64_Datset_PROTEINS/GCN5_64_best_PROTEINS.pth' --onehot_cof 1e-6 --bn_reg_scale 1e-2"
      ],
      "metadata": {
        "id": "BEasV6Lm6WEk"
      },
      "execution_count": null,
      "outputs": []
    },
    {
      "cell_type": "code",
      "source": [],
      "metadata": {
        "id": "Mk8HrrbV6WAk"
      },
      "execution_count": null,
      "outputs": []
    }
  ]
}